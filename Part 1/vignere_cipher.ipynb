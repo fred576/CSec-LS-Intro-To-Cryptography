{
 "cells": [
  {
   "cell_type": "code",
   "execution_count": 1,
   "metadata": {},
   "outputs": [],
   "source": [
    "import freqAnalysis, detectEnglish, itertools\n",
    "\n",
    "MAX_KEY_LENGTH = 12\n",
    "cipher1 = \"zg bbr wh zh sstt? k dsbb, ewqb ou haqu, ccpy tb kk! o xcktf sijzm wp woohtaa! jmohamvzq fahbkfbt wg bjv tpff wh gwmzl! xupqicewizqbz pitwoss bv vys gcku qw oejxzvzgjbz! uker bzmmtzbh qamozqbzl qp kvf thzo ft gchl! diojbpiuywou lmozbbfl qp kvf thzo ft nswqc! tcohkwncse wlwnrhfr ucdszfg bv vys gcku qw gpqbin esukhzmj. ffoe? gql kbbm bq komy tjqlh ssttkkm? xs aixvb'u zbdgu wo oggvywou kmofhfzr knfgf hh qv jwoqx bjv hvfg wh kvf qxvvlfz! kx bwibfr bb qwt, uchs qlh uvx jckhffbmu, jbbqdmf fb b pto qw uncl, ejzzf kx bqjgfr mpg isnbtvvj wohh bjv swsk mzgoorbvi uindlbgi cg ham jlabb vwpuwuwhv. yv zjjx qp sfbbwmf ycvgxa, vioesfitbse pr kqidpftbkfbt, pnqnk co pbxqcos bnudvft, xnurzbh ii ipu rpkg wp uwhwmin uwtdeiaj, vzdgwvznjbz cu zbuc mpg swhuxav jzvaumt dooybvf yot somt jsfb. rww'u vbjx bq uwh dkmvkm esxx, mzrec, umhfff mhc erb gwgl cemuvbvi isbz. pm nzjf wg i mzbhrhu qw pvzeajzh, uvtb gmso mhc jrjf zbdgu wo thz hrf uch tqeu. tc wwp'k hfze ug rppim vqk pfwgo tvom: w'f vq cstg kmcc hiog bjv tvqdqpx pfsy xckhz wg gqlf cwz uct. ot ttz cj mpi tzg tcoqxzpvr, fzeqqk, w ba omtp ffoe. eg rff oet vfufhamt ecx, kamvyss mhc nzyf wm wt ecu\"\n",
    "cipher2 = \"lb iife quws bae hrzrl’l ftuaz khmaxbkz – mhp pixs 1 – t rzru-yqse xdhk wy ewhkzzhmpfpgvbclo kozvutwa hcble lv 1944 ov t lle iz ptrgdzj cgighzyqmy. ekm iwfpfwmx lxvpowvmw a roqzka oyh lgg, tno qw uvx wlv ihtx tz owiime ekm iinsp. dnzmk hzxzy wy spdzipbnr, d tgj tsdlazigt qlvgtey dswzbxd ekm vzhbwhu. ob leppmj i foek pgl eaygmj wg oyh wl bae nruvcmec’v kozvutw juikdd dvj aaocwmj qm ofw. nxwf tsdb swfeyw wt, khmaxbkz zltwknml wpum xmyecumj bh ad ecma.\"\n",
    "cipher3 = \"vvh wpcytsse zcr welvr a diijktlg ufpl. dlv jggwpfjw teveapu rj uyi msru lqfpiokid lc r hwncpf, kle zvvgeqxtbkmox ek egoow, uyi ixwfepwd, xiv wunhvf yoniozrg kx dafblkik, xho tiwugxvf ks segtwgr eidryso jraniui dfyln lrng bdxjfrav gffustyfegec, xyw fsvtbzv op xyw ncqk xvikc aywp hki qisbvid kgspie zrsypltns, wlf iipoekwf rdwizrgc sw mrzljuvh hytvk, vvh qfexav wygeyv, xiv xexwzgp oqh uyi fbyjltowmpe enn xyw wfjiotc axh kzg ghgsvgy kpc uqbyisxid kru zcapisvh fevzgwgoc vgsn rmj kmiop. iv govprhusg mo uicoqswt.\"\n",
    "\n",
    "alphabets = \"abcdefghijklmnopqrstuvwxyzABCDEFGHIJKLMNOPQRSTUVWXYZ\"\n",
    "lower = \"abcdefghijklmnopqrstuvwxyz\"\n",
    "dictionary = {'a': 1, 'c': 3, 'b': 2, 'e': 5, 'd': 4, 'g': 7, 'f': 6, 'i': 9, 'h': 8, 'k': 11, 'j': 10, 'm': 13, 'l': 12, 'o': 15, 'n': 14, 'q': 17, 'p': 16, 's': 19, 'r': 18, 'u': 21, 't': 20, 'w': 23, 'v': 22, 'y': 25, 'x': 24, 'z': 26}\n",
    "\n",
    "NUM_MOST_FREQ_LETTERS = 3\n",
    "\n",
    "def decrypt(message, key):\n",
    "\tj = 0\n",
    "\tdecrypted = ''\n",
    "\tfor i in message:\n",
    "\t\tif(i in alphabets):\n",
    "\t\t\ti = lower[(dictionary[i] - dictionary[key[j]])%26]\n",
    "\t\t\tj = (j+1)%len(key)\n",
    "\t\tdecrypted += i\n",
    "\n",
    "\treturn decrypted\n",
    "\n",
    "\n",
    "def find_key(st, n):\n",
    "\tstrings = []\n",
    "\tfor k in range(n):\n",
    "\t\tstring = \"\"\n",
    "\t\tfor i in range(k, len(st), n):\n",
    "\t\t\tstring += st[i]\n",
    "\t\tstrings.append(string)\n",
    "\t\t\n",
    "\t\tpossibleKeys = []\n",
    "\tfor string in strings:\n",
    "\t\t\n",
    "\t\ttuplee = []  \n",
    "\t\tfor char in lower:\n",
    "\t\t\tdecrypted = decrypt(string, char)\n",
    "\t\t\t#print(decrypted[:100])\n",
    "\t\t\ttuplee.append((char , freqAnalysis.englishFreqMatchScore(decrypted)))\n",
    "\n",
    "\t\ttuplee.sort(key=lambda x: x[1], reverse = True)\n",
    "\t\tpossibleKeys.append(tuplee[:NUM_MOST_FREQ_LETTERS])\n",
    "\t#print(possibleKeys)\n",
    "\n",
    "\tfor indexes in itertools.product(range(NUM_MOST_FREQ_LETTERS), repeat= n):\n",
    "\t\tpossibleKey = ''\n",
    "\t\tfor i in range(n):\n",
    "\t\t\tpossibleKey += possibleKeys[i][indexes[i]][0]\n",
    "\n",
    "\t\tdecrypted = decrypt(message, possibleKey)\n",
    "\n",
    "\t\tif detectEnglish.isEnglish(decrypted):\n",
    "\t\t\tprint(f\"Key = {possibleKey}, Decryted = {decrypted[:200]}\")\n",
    "\n",
    "def score(string):\n",
    "\tscore = 0\n",
    "\tfor char in lower:\n",
    "\t\tcount = 0\n",
    "\t\tfor i in string:\n",
    "\t\t\tif i == char:\n",
    "\t\t\t\tcount+=1\n",
    "\t\tscore += count*(count - 1)\n",
    "\tscore /= len(string)*(len(string) - 1)\n",
    "\treturn 26*score\n",
    "\n",
    "def find_key_length(stripped):\n",
    "\tlength_scores = []\n",
    "\tfor n in range(3, MAX_KEY_LENGTH+1):\n",
    "\t\tioc = 0\n",
    "\t\tfor k in range(0, n):\n",
    "\t\t\tstring = \"\"\n",
    "\t\t\tfor i in range(k, len(stripped), n):\n",
    "\t\t\t\tstring+=stripped[i]\n",
    "\t\t\tioc += score(string)\n",
    "\n",
    "\t\tioc/= n\n",
    "\t\t#print(f\"Key length {n}, ioc {ioc}\")\n",
    "\n",
    "\t\tlength_scores.append(ioc)\n",
    "\tfor i in range(len(length_scores)):\n",
    "\t\tif length_scores[i] > 1.65:\n",
    "\t\t\treturn i+3\n",
    "\tfor i in range(len(length_scores)):\n",
    "\t\tif length_scores[i] > 1.60:\n",
    "\t\t\treturn i+3\n",
    "\n",
    "\n"
   ]
  },
  {
   "cell_type": "code",
   "execution_count": 2,
   "metadata": {},
   "outputs": [
    {
     "name": "stdout",
     "output_type": "stream",
     "text": [
      "Key = robotic, Decryted = is any of it real? i mean, look at this, look at it! a world built on fantasy! synthetic emotions in the form of pills! psychological warfare in the form of advertising! mind altering chemicals in the\n"
     ]
    }
   ],
   "source": [
    "message = cipher1\n",
    "stripped = \"\"\n",
    "for i in message:\n",
    "\tif i in alphabets:\n",
    "\t\tstripped += i.lower()\n",
    "\n",
    "key_length = find_key_length(stripped)\n",
    "key = find_key(stripped, key_length)"
   ]
  },
  {
   "cell_type": "code",
   "execution_count": 3,
   "metadata": {},
   "outputs": [
    {
     "name": "stdout",
     "output_type": "stream",
     "text": [
      "Key = digital, Decryted = it came from the world’s first computer – the mark 1 – a room-size maze of electromechanical circuits built in 1944 in a lab at harvard university. the computer developed a glitch one day, and no one \n"
     ]
    }
   ],
   "source": [
    "message = cipher2\n",
    "stripped = \"\"\n",
    "for i in message:\n",
    "\tif i in alphabets:\n",
    "\t\tstripped += i.lower()\n",
    "\n",
    "key_length = find_key_length(stripped)\n",
    "key = find_key(stripped, key_length)"
   ]
  },
  {
   "cell_type": "code",
   "execution_count": 4,
   "metadata": {},
   "outputs": [
    {
     "name": "stdout",
     "output_type": "stream",
     "text": [
      "Key = codebreakers, Decryted = the solution had taken a terrific toll. the restless turning of the mind tormented by a puzzle, the preoccupation at meals, the insomnia, the sudden wakening at midnight, the pressure to succeed becau\n"
     ]
    }
   ],
   "source": [
    "message = cipher3\n",
    "stripped = \"\"\n",
    "for i in message:\n",
    "\tif i in alphabets:\n",
    "\t\tstripped += i.lower()\n",
    "\n",
    "key_length = find_key_length(stripped)\n",
    "key = find_key(stripped, key_length)"
   ]
  }
 ],
 "metadata": {
  "kernelspec": {
   "display_name": "Python 3",
   "language": "python",
   "name": "python3"
  },
  "language_info": {
   "codemirror_mode": {
    "name": "ipython",
    "version": 3
   },
   "file_extension": ".py",
   "mimetype": "text/x-python",
   "name": "python",
   "nbconvert_exporter": "python",
   "pygments_lexer": "ipython3",
   "version": "3.8.10"
  },
  "orig_nbformat": 4
 },
 "nbformat": 4,
 "nbformat_minor": 2
}
